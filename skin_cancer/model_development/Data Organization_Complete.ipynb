{
 "cells": [
  {
   "cell_type": "code",
   "execution_count": null,
   "metadata": {},
   "outputs": [],
   "source": [
    "import matplotlib.pyplot as plt\n",
    "import pandas as pd\n",
    "import os\n",
    "import pandas as pd\n",
    "import numpy as np\n",
    "import random"
   ]
  },
  {
   "cell_type": "code",
   "execution_count": null,
   "metadata": {},
   "outputs": [],
   "source": [
    "skin_data = pd.read_csv(skin_path)"
   ]
  },
  {
   "cell_type": "code",
   "execution_count": null,
   "metadata": {},
   "outputs": [],
   "source": [
    "skin_path = os.getcwd() + '/data/HAM10000_metadata.csv'"
   ]
  },
  {
   "cell_type": "code",
   "execution_count": null,
   "metadata": {},
   "outputs": [],
   "source": [
    "search_dir = os.getcwd() + '/data/HAM10000_images/'"
   ]
  },
  {
   "cell_type": "code",
   "execution_count": null,
   "metadata": {},
   "outputs": [],
   "source": [
    "train_folder = search_dir + 'Train'\n",
    "test_folder = search_dir + 'Test'"
   ]
  },
  {
   "cell_type": "code",
   "execution_count": null,
   "metadata": {},
   "outputs": [],
   "source": [
    "os.mkdir(train_folder)\n",
    "os.mkdir(test_folder)"
   ]
  },
  {
   "cell_type": "code",
   "execution_count": null,
   "metadata": {},
   "outputs": [],
   "source": [
    "t = 0.10\n",
    "#percentage of test data"
   ]
  },
  {
   "cell_type": "code",
   "execution_count": null,
   "metadata": {},
   "outputs": [],
   "source": [
    "for f in os.listdir(search_dir):\n",
    "    pics = os.listdir(search_dir)\n",
    "    numpics = len(pics) \n",
    "    numtestpics = round(t * numpics)"
   ]
  },
  {
   "cell_type": "code",
   "execution_count": null,
   "metadata": {},
   "outputs": [],
   "source": [
    "test_pics = random.sample(pics, numtestpics)"
   ]
  },
  {
   "cell_type": "code",
   "execution_count": null,
   "metadata": {},
   "outputs": [],
   "source": [
    "for p in test_pics:\n",
    "    file_path = f'Path/to/model_development/data/HAM10000_images/{p}'\n",
    "    test_path = f'/Path/to/model_development/data/HAM10000_images/Test/{p}'\n",
    "\n",
    "    os.rename(f'{file_path}', f'{test_path}')"
   ]
  },
  {
   "cell_type": "code",
   "execution_count": null,
   "metadata": {},
   "outputs": [],
   "source": [
    "train = train_folder + '/Training'\n",
    "test = test_folder + '/Testing'"
   ]
  },
  {
   "cell_type": "code",
   "execution_count": null,
   "metadata": {},
   "outputs": [],
   "source": [
    "os.mkdir(train)\n",
    "os.mkdir(test)"
   ]
  },
  {
   "cell_type": "code",
   "execution_count": null,
   "metadata": {},
   "outputs": [],
   "source": [
    "dx_unique = skin_data.dx.unique()"
   ]
  },
  {
   "cell_type": "code",
   "execution_count": null,
   "metadata": {},
   "outputs": [],
   "source": [
    "search_dir = 'Path/to/model_development/data/HAM10000_images/Train/Training'\n",
    "os.chdir(search_dir)"
   ]
  },
  {
   "cell_type": "code",
   "execution_count": null,
   "metadata": {},
   "outputs": [],
   "source": [
    "os.getcwd()"
   ]
  },
  {
   "cell_type": "code",
   "execution_count": null,
   "metadata": {},
   "outputs": [],
   "source": [
    "for f in skin_data.dx.unique():\n",
    "    os.makedirs(f'{f}/')"
   ]
  },
  {
   "cell_type": "code",
   "execution_count": null,
   "metadata": {},
   "outputs": [],
   "source": [
    "search_dir = '/Path/to/model_development/data/HAM10000_images/Test/Testing/'\n",
    "os.chdir(search_dir)\n",
    "os.getcwd()"
   ]
  },
  {
   "cell_type": "code",
   "execution_count": null,
   "metadata": {},
   "outputs": [],
   "source": [
    "for f in skin_data.dx.unique():\n",
    "    os.makedirs(f'{f}/')"
   ]
  },
  {
   "cell_type": "code",
   "execution_count": null,
   "metadata": {},
   "outputs": [],
   "source": [
    "search_dir = '/Path/to/model_development/data/HAM10000_images/'\n",
    "os.chdir(search_dir)\n",
    "\n",
    "os.getcwd()"
   ]
  },
  {
   "cell_type": "code",
   "execution_count": null,
   "metadata": {},
   "outputs": [],
   "source": [
    "for p in skin_data.itertuples():\n",
    "    try:\n",
    "        filepath = f'/Path/to/model_development/data/HAM10000_images/Train/{p.image_id}.jpg'\n",
    "        trainpath = f'/Path/to/model_development/data/HAM10000_images/Train/Training/{p.dx}/{p.image_id}.jpg'\n",
    "        os.rename(f'{filepath}', f'{trainpath}')\n",
    "    except OSError:\n",
    "        pass\n",
    "    \n",
    "#This moves the images based on their dx category into sub-folders to be used for training"
   ]
  },
  {
   "cell_type": "code",
   "execution_count": null,
   "metadata": {},
   "outputs": [],
   "source": [
    "for p in skin_data.itertuples():\n",
    "    try:\n",
    "        filepath = f'/Path/to/model_development/data/HAM10000_images/Test/{p.image_id}.jpg'\n",
    "        testpath = f'/Path/to/model_development/data/HAM10000_images/Test/Testing/{p.dx}/{p.image_id}.jpg'\n",
    "        os.rename(f'{filepath}', f'{testpath}')\n",
    "    except OSError:\n",
    "        pass\n",
    "    \n",
    "#This moves the images based on their dx category into sub-folders to be used for testing"
   ]
  }
 ],
 "metadata": {
  "kernelspec": {
   "display_name": "Python 3",
   "language": "python",
   "name": "python3"
  },
  "language_info": {
   "codemirror_mode": {
    "name": "ipython",
    "version": 3
   },
   "file_extension": ".py",
   "mimetype": "text/x-python",
   "name": "python",
   "nbconvert_exporter": "python",
   "pygments_lexer": "ipython3",
   "version": "3.6.8"
  }
 },
 "nbformat": 4,
 "nbformat_minor": 2
}
